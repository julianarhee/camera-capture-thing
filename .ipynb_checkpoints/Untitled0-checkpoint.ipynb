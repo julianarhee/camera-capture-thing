{
 "metadata": {
  "name": "",
  "signature": "sha256:9d07f4aae2590fa8b24c4007397b69a577e0e08236c104d360795dc59385fff2"
 },
 "nbformat": 3,
 "nbformat_minor": 0,
 "worksheets": []
}